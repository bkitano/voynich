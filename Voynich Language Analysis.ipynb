{
 "cells": [
  {
   "cell_type": "markdown",
   "metadata": {},
   "source": [
    "# Voynich Language Analysis\n",
    "\n",
    "## Brian Kitano"
   ]
  },
  {
   "cell_type": "markdown",
   "metadata": {},
   "source": [
    "## Introduction\n",
    "Via [this blog post](https://voynichattacks.wordpress.com/2017/09/26/using-t-distributed-stochastic-neighbor-embedding-tsne-to-cluster-folios/), it appears that the Voynich Manuscript (VMS) might be written in two separate languages. In this paper, we will test different approaches on disambiguating noisy transcriptions of two mixed languages which use the same alphabet."
   ]
  },
  {
   "cell_type": "markdown",
   "metadata": {},
   "source": [
    "## Testing\n",
    "In order to test our methods, we need to have a known sample document to analyze. Thus, we need to generate documents that are noisy, bilingual (or more), and mixed around. In VMS, it appears that the languages are separated by folio, so we’ll do the same here. Consider if we mixed it on a word to word basis then the sentences would be meaningless, and if we mixed it on a sentence to sentence basis the paragraphs would be meaningless, but if VMS is mixed folio by folio, the document at a whole would appear interpretable but jumbled. We will test each tier of mixing.\n",
    "\n",
    "We'll first create a test document, which in this case will be Moby Dick, by Herman Melville. "
   ]
  },
  {
   "cell_type": "markdown",
   "metadata": {},
   "source": [
    "## Previous Work\n",
    "\n",
    "Essentially all previous work has asked a similar, but significantly different question: \"what languages are present?\" This contrasts because theirs are recognition based, meaning they require both an assumption of what languages are present, and a corpus to train on. If they don't know what language is present, then their models don't work. However, I intend to exploit similar methods in order to determine the count present. In other words, all previous work is based on supervised training, whereas mine is (must be) based on unsupervised learning methods.\n",
    "\n",
    "[statistical identification of language](http://citeseerx.ist.psu.edu/viewdoc/download?doi=10.1.1.48.1958&rep=rep1&type=pdf)\n",
    "\n",
    "[natural language identification using corpus based methods](https://tidsskrift.dk/her/article/view/25083)\n",
    "\n",
    "Other work includes being able to partition where one language ends and another begins (Rehurek and Kolkus, 2009), and have achieved significant success in that field. I believe this will be a subsidiary goal to my current one. "
   ]
  },
  {
   "cell_type": "code",
   "execution_count": 33,
   "metadata": {},
   "outputs": [],
   "source": [
    "import nltk\n",
    "from nltk.tokenize import RegexpTokenizer\n",
    "with open('/home/ubuntu/workspace/moby10b.txt') as fp:\n",
    "    m = fp.read()\n",
    "    \n",
    "tokenizer = RegexpTokenizer(r'[A-Za-z0-9]+')\n",
    "T_moby = map(lambda s: s.lower(), tokenizer.tokenize(m.replace(\"'\",\"\"))) # cleaned tokens of Moby Dick"
   ]
  },
  {
   "cell_type": "markdown",
   "metadata": {},
   "source": [
    "## Top Down Approaches\n",
    "### Test 1: Markov modeling for one language\n",
    "This test is simple: we have a prior inclination that the document is in a language A. We set our null hypothesis to be “the document is not in language A”. We then reference the Markov model generated for Language A, and determine the probability, specified in [1]. If it’s significant enough, we can state that the document is in language A.  \n",
    "\n",
    "#### Problem\n",
    "Repeating this approach independently or in unison won’t work in determining whether something is in multiple languages. Consider the logical statements “A: D is in language A” and “B: D is in language B”, and the statement we wish to prove being that the document is in both A and B, A ^ B. If the languages are mutually exclusive, which by our test they are since we’d pick the language whose Markov model gives the highest likelihood, then P(A ^ B) = 0. Thus we need to consider a more nuanced definition of what it means for a document to be in two different languages.\n",
    "\n",
    "Let’s try to more concretely define what it means for a document to be in two different languages. We first might consider the prevalence of words that are in each language being found in the document; if there are words found in multiple languages, that means that the document is in multiple languages. We can assign a metric to “how much language” it is in by looking at the ratio of the word counts from language A to all the others present. \n",
    "\n",
    "This definition has a balance of benefits and problems. On the benefits, it’s easy to calculate if you know what languages to look for, and it provides an intuitive summary statistic (“this is 20% English, 40% French, 40% Spanish). On the drawbacks, it requires us to know what languages to look for. This, in the context of the VMS, is a major problem, as we don’t even recognize the alphabet. In addition, this definition does not rely on the coherence of the document; a document might be a random distribution of words from randomly selected languages, and the metric would still be valid, despite the sentences being utterly incoherent. It suffices to say that we would like a method that does not depend on knowing what languages we need to look for, and can discern the difference between ‘a set of randomly ordered and selected words’ and ‘a sentence.’\n",
    "\n",
    "### Test 2: Continuous Bag of Words Word Embeddings\n",
    "This algorithm enables us to eliminate the known language dependency, and incorporate the relations between words present in the corpus we want to test, which enables us to distinguish between nonsense and meaningful sentences, in theory. \n",
    "\n",
    "Continuous Bag of Words (CBOW) embeddings rely on the Distributional Hypothesis,\n",
    "Are there axes by which upon projecting down cluster to isolate verbs, nouns, adjectives?\n"
   ]
  },
  {
   "cell_type": "markdown",
   "metadata": {},
   "source": [
    "## Analysis\n",
    "\n",
    "### Building the Voynich dataset\n",
    "The Voynich enhanced transcription dataset was acquired from [voynichese](https://github.com/voynichese/voynichese/blob/wiki/DataSets.md). The transcription uses EVA, which uses `a,c,d,e,f,g,h,i,k,l,m,n,o,p,q,r,s,t,v,x,y,z` as its alphabet."
   ]
  },
  {
   "cell_type": "code",
   "execution_count": 23,
   "metadata": {
    "scrolled": true
   },
   "outputs": [],
   "source": [
    "from bs4 import BeautifulSoup\n",
    "import nltk\n",
    "import itertools\n",
    "\n",
    "def folio_to_list(folio):\n",
    "\n",
    "    with open('/home/ubuntu/workspace/data/' + folio) as fp:\n",
    "        soup = BeautifulSoup(fp, 'html.parser')\n",
    "\n",
    "    g = map(lambda _w: _w.string, soup.find_all('word'))\n",
    "    \n",
    "    return g\n",
    "\n",
    "with open('/home/ubuntu/workspace/folio_list.txt') as fp:\n",
    "    FOLIO_LIST = fp.readlines()\n",
    "    \n",
    "FOLIOS = map(lambda f: folio_to_list(f.split('\\n')[0]), FOLIO_LIST)\n",
    "T_vms = list(itertools.chain.from_iterable(FOLIOS)) # tokens of VMS"
   ]
  },
  {
   "cell_type": "markdown",
   "metadata": {},
   "source": [
    "`T_vms` is a list of tokens. Let's learn some basic information about the VMS."
   ]
  },
  {
   "cell_type": "code",
   "execution_count": 202,
   "metadata": {},
   "outputs": [],
   "source": [
    "def make_alphabet(T): # determines the alphabet of a document from the list of tokens\n",
    "    A = set()\n",
    "    for word in T:\n",
    "        for letter in word:\n",
    "            A.add(letter)\n",
    "    return list(A)\n",
    "        \n",
    "def make_hash(A): # side tool for mapping letters to numbers, with space character inserted.\n",
    "    H = dict( zip(A, range(len(A))))\n",
    "    H[' '] = 0\n",
    "    return H"
   ]
  },
  {
   "cell_type": "markdown",
   "metadata": {},
   "source": [
    "For VMS, we have the following statistics:"
   ]
  },
  {
   "cell_type": "code",
   "execution_count": 203,
   "metadata": {
    "scrolled": true
   },
   "outputs": [
    {
     "name": "stdout",
     "output_type": "stream",
     "text": [
      "word count: 37886\n",
      "vocabulary size: 8078\n",
      "number of folios: 225\n",
      "alphabet: a c e d g f i h k m l o n q p s r t v y x z\n"
     ]
    }
   ],
   "source": [
    "print \"word count: \" + str(len(T_vms))\n",
    "print \"vocabulary size: \" + str(len(set(T_vms)))\n",
    "print \"number of folios: \" + str(len(FOLIO_LIST))\n",
    "\n",
    "# determine the alphabet\n",
    "A_vms = make_alphabet(T_vms)\n",
    "print \"alphabet: \" + \" \".join(A_vms)\n",
    "H_vms = make_hash(A_vms)"
   ]
  },
  {
   "cell_type": "markdown",
   "metadata": {},
   "source": [
    "and for Moby Dick, we have"
   ]
  },
  {
   "cell_type": "code",
   "execution_count": 204,
   "metadata": {},
   "outputs": [
    {
     "name": "stdout",
     "output_type": "stream",
     "text": [
      "word count: 218329\n",
      "vocabulary size: 17585\n",
      "alphabet: 1 0 3 2 5 4 7 6 9 8 a c b e d g f i h k j m l o n q p s r u t w v y x z\n"
     ]
    }
   ],
   "source": [
    "print \"word count: \" + str(len(T_moby))\n",
    "print \"vocabulary size: \" + str(len(set(T_moby)))\n",
    "A_moby = make_alphabet(T_moby)\n",
    "print \"alphabet: \" + \" \".join(A_moby)\n",
    "H_moby = make_hash(A_moby)"
   ]
  },
  {
   "cell_type": "markdown",
   "metadata": {},
   "source": [
    "###  Implementing the Algorithm\n",
    "Our algorithm is broken into the following steps:\n",
    "1. Take k n-length substrings from the document.\n",
    "2. Calculate posterior bigrams for each substring.\n",
    "3. Determine the optimal number of clusters via k-means and/or Gaussian Mixture Modeling. "
   ]
  },
  {
   "cell_type": "code",
   "execution_count": 205,
   "metadata": {},
   "outputs": [],
   "source": [
    "import random\n",
    "random.seed(100)\n",
    "\n",
    "import numpy as np\n",
    "\n",
    "def word_subsample(T, n):\n",
    "    if n > len(T):\n",
    "        n = len(T)\n",
    "    # take an n-word sample from document D\n",
    "    index = random.randint(0, len(T) - n)\n",
    "    return T[index:(index + n)]\n",
    "\n",
    "def string_subsample(T, n):\n",
    "    # D a word list, n a integer\n",
    "    S = ' '.join(T) # make a string of words\n",
    "    if n > len(S):\n",
    "        n = len(S)\n",
    "    index = random.randint(0, len(S) - n)\n",
    "    return S[index:(index + n)]\n",
    "    \n",
    "def bigram(S, H):\n",
    "    # returns the letter bigram of substring S given the alphabet\n",
    "    \n",
    "    l = len(H) # number of letters in alphabet\n",
    "    B = np.zeros((l,l))\n",
    "    \n",
    "    prev = 0 # stores current index\n",
    "    while prev < len(S) - 1:\n",
    "        l_prev = S[prev] # the last letter\n",
    "        l_curr = S[prev + 1] # the current letter\n",
    "        \n",
    "        i = H[l_prev]\n",
    "        j = H[l_curr]\n",
    "        \n",
    "        # print \"({0},{1})\".format(l_prev,l_curr)\n",
    "            \n",
    "        B[i,j] += 1\n",
    "        prev += 1\n",
    "        \n",
    "    return B / np.sum(B)\n",
    "\n",
    "def trigram(S, H):\n",
    "    # returns the letter trigram of substring S given the alphabet\n",
    "    l = len(H)\n",
    "    C = np.zeros((l,l,l))\n",
    "    \n",
    "    p = 0\n",
    "    while p < len(S) - 2:\n",
    "        l_pp = S[p]\n",
    "        l_p = S[p+1]\n",
    "        l_c = S[p+2]\n",
    "        \n",
    "        i = H[l_pp]\n",
    "        j = H[l_p]\n",
    "        k = H[l_c]\n",
    "        \n",
    "        C[i][j][k] += 1 # each element represents a unique trigram\n",
    "        p += 1 # increment counter\n",
    "        \n",
    "    return C / np.sum(C)"
   ]
  },
  {
   "cell_type": "code",
   "execution_count": 225,
   "metadata": {},
   "outputs": [],
   "source": [
    "S_moby = string_subsample(T_moby, 500)\n",
    "B_moby = bigram(S_moby, H_moby)\n",
    "\n",
    "S_vms = string_subsample(T_vms, 100)\n",
    "B_vms = bigram(S_vms, H_vms)\n",
    "\n",
    "C_moby = trigram(S_moby, H_moby)"
   ]
  },
  {
   "cell_type": "markdown",
   "metadata": {},
   "source": [
    "Let's build a graphic to see visually what this means."
   ]
  },
  {
   "cell_type": "code",
   "execution_count": 239,
   "metadata": {},
   "outputs": [],
   "source": [
    "import matplotlib as mlp\n",
    "import matplotlib.pyplot as plt\n",
    "\n",
    "def bigram_graph(A, B):\n",
    "    fig, ax = plt.subplots(figsize=(7,7))\n",
    "    \n",
    "    cmap2 = mlp.colors.LinearSegmentedColormap.from_list('my_colormap',\n",
    "                                               ['white','red','blue'],\n",
    "                                               256)\n",
    "    plt.xticks(range(len(A)), A)\n",
    "    plt.yticks(range(len(A)), A)\n",
    "\n",
    "\n",
    "    img2 = plt.imshow(B,interpolation='nearest',\n",
    "                        cmap = cmap2,\n",
    "                        origin='lower'\n",
    "                     )\n",
    "\n",
    "    plt.colorbar(img2,cmap=cmap2) # this is the color bar\n",
    "    \n",
    "    plt.show()\n",
    "    \n",
    "def bigram_letter_analysis(B, H, A, l):\n",
    "    index = H[l]\n",
    "    t = list(B[index] / np.sum(B[index]))\n",
    "    return t\n",
    "    \n",
    "def bigram_letter_analysis_graph(B, H, A, l):\n",
    "    index = H[l]\n",
    "    t = list(B[index] / np.sum(B[index]))\n",
    "    \n",
    "    fig, ax = plt.subplots()\n",
    "\n",
    "    x = range(len(t))\n",
    "    plt.bar(x, t)\n",
    "    plt.xticks(x, A)\n",
    "    plt.ylabel(\"frequency\")\n",
    "    plt.xlabel(\"letter\")\n",
    "    plt.title(\"frequency of letter following '{0}'\".format(l))\n",
    "\n",
    "    plt.show()\n"
   ]
  },
  {
   "cell_type": "code",
   "execution_count": 240,
   "metadata": {},
   "outputs": [
    {
     "name": "stdout",
     "output_type": "stream",
     "text": [
      "of intermixed and hummed around him the mighty idler seemed the cunning weaver himself all woven over with the vines every month assuming greener fresher verdure but himself a skeleton life folded death death trellised life the grim god wived with youthful life and begat him curly headed glories now when with royal tranquo i visited this wondrous whale and saw the skull an altar and the artificial smoke ascending from where the real jet had issued i marvelled that the king should regard a chapel\n"
     ]
    }
   ],
   "source": [
    "print S_moby"
   ]
  },
  {
   "cell_type": "code",
   "execution_count": 241,
   "metadata": {},
   "outputs": [
    {
     "data": {
      "image/png": "[encoded data removed]",
      "text/plain": [
       "<Figure size 432x288 with 1 Axes>"
      ]
     },
     "metadata": {},
     "output_type": "display_data"
    }
   ],
   "source": [
    "bigram_letter_analysis_graph(B_moby, H_moby, A_moby, ' ')"
   ]
  },
  {
   "cell_type": "markdown",
   "metadata": {},
   "source": [
    "This is a bar graph is a slice of the bigram matrix down onto one dimension, where each bar represents the frequency of the letter following the slice. In this example, we use it to determine the most common letter following `' '`, the space character, which is thus the most common starting letter of a word."
   ]
  },
  {
   "cell_type": "code",
   "execution_count": 242,
   "metadata": {},
   "outputs": [
    {
     "data": {
      "image/png": "[encoded data removed]",
      "text/plain": [
       "<Figure size 504x504 with 2 Axes>"
      ]
     },
     "metadata": {},
     "output_type": "display_data"
    }
   ],
   "source": [
    "bigram_graph(A_moby, B_moby)"
   ]
  },
  {
   "cell_type": "markdown",
   "metadata": {},
   "source": [
    "This is the full bigram matrix. Here, we can see that the most common bigrams are `'s '`, `' t'`, `'he'`, `'e '`. Note that the last three bigrams are the bigram decompositions of `the`, the most common word in the English language, and the first is just the fact that plurals typically end in `s`."
   ]
  },
  {
   "cell_type": "code",
   "execution_count": 243,
   "metadata": {},
   "outputs": [
    {
     "data": {
      "image/png": "[encoded data removed]",
      "text/plain": [
       "<Figure size 504x504 with 2 Axes>"
      ]
     },
     "metadata": {},
     "output_type": "display_data"
    }
   ],
   "source": [
    "bigram_graph(A_moby, C_moby[H_moby['t']]) # projecting a trigram down onto the bigram by slicing it"
   ]
  },
  {
   "cell_type": "markdown",
   "metadata": {},
   "source": [
    "Here is a slice of the trigram matrix at letter `t`. The graph represents every observed trigram which starts with the letter `t`. The y-axis is the middle letter, and the x-axis is the ending letter. As you can see, as expected, the highest trigram is `the`, which is expected for English."
   ]
  },
  {
   "cell_type": "markdown",
   "metadata": {},
   "source": [
    "# Discussion\n",
    "What is the sensitivity of our test? Consider that in any sample substring of length $n$, the presence of a single $b$-length word will only lead to $b+2$ indicators in the bigram. This can easily be drowned out, since $\\frac{b+2}{n}$ quickly approaches 0. For example, in English, the [average word length is 5.1 letters](https://arxiv.org/pdf/1208.6109.pdf), which means that in a substring of length $n=500$, a single Spanish word would only account for about 1% of the bigram. \n",
    "\n",
    "What is the rate of convergence to the mean? That is, how long must our substring be to get within $\\alpha$% of the language's bigram?\n",
    "\n",
    "Trigram models perform optimally. \"For the bigraph model, optimal success (100%) was reached on text samples of 200 characters or more, whereas for the trigraph model, 100% success could be gained on samples of more than 175 characters.\" [link](https://www.researchgate.net/publication/246922625_Natural_language_identification_using_corpus-based_models) \n",
    "\n",
    "\"Whereas, for a trigraph model, only 25-50% of the \\[tri\\]graphs need to be learned to achieve optimal recognition\"[link](https://tidsskrift.dk/her/article/view/25083)\n",
    "\n",
    "What if we boosted the words that appeared abberant? \n",
    "\n",
    "We need to bootstrap so that we can estimate variance of the bigrams.\n",
    "\n",
    "Zipf's law: The frequency of a word is inversely proportional to its rank of usage. Derives from a Pareto distribution. The first place word is used about twice as much as the second, three times as much as the third, etc. \n",
    "\n",
    "Formally,\n",
    "$$\n",
    "P(W=w) \\propto \\frac{1}{(r_w+\\beta)^{\\alpha}},\n",
    "$$\n",
    "where $r$ is the rank of the usage of word $w$, and $\\alpha$ and $\\beta$ are shaping parameters.\n",
    "\n",
    "Rehurek and Kolkus, 2009: 372/619\n",
    "\n",
    "\n",
    "hapax legomenon\n",
    "\n",
    "Can't use the CLT, because the bigrams are not identically distributed.\n",
    "\n",
    "Do I scale by the whole sum (a doubly stochastic matrix) or by each row? \n",
    "\n",
    "$$\n",
    "P(a_j \\, | \\, a_i) = \\frac{ P(a_j \\cap a_i) }{P(a_i)} = \\frac{ \\text{# of pairs $(a_i, a_j)$ or $(a_j, a_i)$} }{ \\# \\text{ of } a_i }\n",
    "$$"
   ]
  },
  {
   "cell_type": "markdown",
   "metadata": {},
   "source": [
    "# References\n",
    "[statistical identification of language](http://citeseerx.ist.psu.edu/viewdoc/download?doi=10.1.1.48.1958&rep=rep1&type=pdf)\n",
    "[natural language identification using corpus based methods](https://tidsskrift.dk/her/article/view/25083)\n"
   ]
  }
 ],
 "metadata": {
  "kernelspec": {
   "display_name": "Python 2",
   "language": "python",
   "name": "python2"
  },
  "language_info": {
   "codemirror_mode": {
    "name": "ipython",
    "version": 2
   },
   "file_extension": ".py",
   "mimetype": "text/x-python",
   "name": "python",
   "nbconvert_exporter": "python",
   "pygments_lexer": "ipython2",
   "version": "2.7.14"
  }
 },
 "nbformat": 4,
 "nbformat_minor": 2
}
