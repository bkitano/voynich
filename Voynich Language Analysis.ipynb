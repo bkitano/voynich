{
 "cells": [
  {
   "cell_type": "markdown",
   "metadata": {},
   "source": [
    "# Voynich Language Analysis\n",
    "\n",
    "## Brian Kitano"
   ]
  },
  {
   "cell_type": "markdown",
   "metadata": {},
   "source": [
    "## Introduction\n",
    "Via [this blog post](https://voynichattacks.wordpress.com/2017/09/26/using-t-distributed-stochastic-neighbor-embedding-tsne-to-cluster-folios/), it appears that the Voynich Manuscript (VMS) might be written in two separate languages. In this paper, we will test different approaches on disambiguating noisy transcriptions of two mixed languages which use the same alphabet."
   ]
  },
  {
   "cell_type": "markdown",
   "metadata": {},
   "source": [
    "## Testing\n",
    "In order to test our methods, we need to have a known sample document to analyze. Thus, we need to generate documents that are noisy, bilingual (or more), and mixed around. In VMS, it appears that the languages are separated by folio, so we’ll do the same here. Consider if we mixed it on a word to word basis then the sentences would be meaningless, and if we mixed it on a sentence to sentence basis the paragraphs would be meaningless, but if VMS is mixed folio by folio, the document at a whole would appear interpretable but jumbled. We will test each tier of mixing.\n",
    "\n",
    "We'll first create a test document, which in this case will be Moby Dick, by Herman Melville. "
   ]
  },
  {
   "cell_type": "markdown",
   "metadata": {},
   "source": [
    "## Previous Work\n",
    "\n",
    "Essentially all previous work has asked a similar, but significantly different question: \"what languages are present?\" This contrasts because theirs are recognition based, meaning they require both an assumption of what languages are present, and a corpus to train on. If they don't know what language is present, then their models don't work. However, I intend to exploit similar methods in order to determine the count present. In other words, all previous work is based on supervised training, whereas mine is (must be) based on unsupervised learning methods.\n",
    "\n",
    "[statistical identification of language](http://citeseerx.ist.psu.edu/viewdoc/download?doi=10.1.1.48.1958&rep=rep1&type=pdf)\n",
    "\n",
    "[natural language identification using corpus based methods](https://tidsskrift.dk/her/article/view/25083)\n",
    "\n",
    "Other work includes being able to partition where one language ends and another begins (Rehurek and Kolkus, 2009), and have achieved significant success in that field. I believe this will be a subsidiary goal to my current one. "
   ]
  },
  {
   "cell_type": "code",
   "execution_count": 1,
   "metadata": {},
   "outputs": [],
   "source": [
    "import nltk\n",
    "from nltk.tokenize import RegexpTokenizer\n",
    "with open('/home/ubuntu/workspace/moby10b.txt') as fp:\n",
    "    m = fp.read()\n",
    "    \n",
    "tokenizer = RegexpTokenizer(r'[A-Za-z0-9]+')\n",
    "T_moby = map(lambda s: s.lower(), tokenizer.tokenize(m.replace(\"'\",\"\"))) # cleaned tokens of Moby Dick"
   ]
  },
  {
   "cell_type": "markdown",
   "metadata": {},
   "source": [
    "## Top Down Approaches\n",
    "### Test 1: Markov modeling for one language\n",
    "This test is simple: we have a prior inclination that the document is in a language A. We set our null hypothesis to be “the document is not in language A”. We then reference the Markov model generated for Language A, and determine the probability, specified in [1]. If it’s significant enough, we can state that the document is in language A.  \n",
    "\n",
    "#### Problem\n",
    "Repeating this approach independently or in unison won’t work in determining whether something is in multiple languages. Consider the logical statements “A: D is in language A” and “B: D is in language B”, and the statement we wish to prove being that the document is in both A and B, A ^ B. If the languages are mutually exclusive, which by our test they are since we’d pick the language whose Markov model gives the highest likelihood, then P(A ^ B) = 0. Thus we need to consider a more nuanced definition of what it means for a document to be in two different languages.\n",
    "\n",
    "Let’s try to more concretely define what it means for a document to be in two different languages. We first might consider the prevalence of words that are in each language being found in the document; if there are words found in multiple languages, that means that the document is in multiple languages. We can assign a metric to “how much language” it is in by looking at the ratio of the word counts from language A to all the others present. \n",
    "\n",
    "This definition has a balance of benefits and problems. On the benefits, it’s easy to calculate if you know what languages to look for, and it provides an intuitive summary statistic (“this is 20% English, 40% French, 40% Spanish). On the drawbacks, it requires us to know what languages to look for. This, in the context of the VMS, is a major problem, as we don’t even recognize the alphabet. In addition, this definition does not rely on the coherence of the document; a document might be a random distribution of words from randomly selected languages, and the metric would still be valid, despite the sentences being utterly incoherent. It suffices to say that we would like a method that does not depend on knowing what languages we need to look for, and can discern the difference between ‘a set of randomly ordered and selected words’ and ‘a sentence.’\n",
    "\n",
    "### Test 2: Continuous Bag of Words Word Embeddings\n",
    "This algorithm enables us to eliminate the known language dependency, and incorporate the relations between words present in the corpus we want to test, which enables us to distinguish between nonsense and meaningful sentences, in theory. \n",
    "\n",
    "Continuous Bag of Words (CBOW) embeddings rely on the Distributional Hypothesis,\n",
    "Are there axes by which upon projecting down cluster to isolate verbs, nouns, adjectives?\n"
   ]
  },
  {
   "cell_type": "markdown",
   "metadata": {},
   "source": [
    "## Analysis\n",
    "\n",
    "### Building the Voynich dataset\n",
    "The Voynich enhanced transcription dataset was acquired from [voynichese](https://github.com/voynichese/voynichese/blob/wiki/DataSets.md). The transcription uses EVA, which uses `a,c,d,e,f,g,h,i,k,l,m,n,o,p,q,r,s,t,v,x,y,z` as its alphabet."
   ]
  },
  {
   "cell_type": "code",
   "execution_count": 2,
   "metadata": {
    "scrolled": true
   },
   "outputs": [],
   "source": [
    "from bs4 import BeautifulSoup\n",
    "import nltk\n",
    "import itertools\n",
    "\n",
    "def folio_to_list(folio):\n",
    "\n",
    "    with open('/home/ubuntu/workspace/data/' + folio) as fp:\n",
    "        soup = BeautifulSoup(fp, 'html.parser')\n",
    "\n",
    "    g = map(lambda _w: _w.string, soup.find_all('word'))\n",
    "    \n",
    "    return g\n",
    "\n",
    "with open('/home/ubuntu/workspace/folio_list.txt') as fp:\n",
    "    FOLIO_LIST = fp.readlines()\n",
    "    \n",
    "FOLIOS = map(lambda f: folio_to_list(f.split('\\n')[0]), FOLIO_LIST)\n",
    "T_vms = list(itertools.chain.from_iterable(FOLIOS)) # tokens of VMS"
   ]
  },
  {
   "cell_type": "markdown",
   "metadata": {},
   "source": [
    "`T_vms` is a list of tokens. Let's learn some basic information about the VMS."
   ]
  },
  {
   "cell_type": "code",
   "execution_count": 3,
   "metadata": {},
   "outputs": [],
   "source": [
    "def make_alphabet(T): # determines the alphabet of a document from the list of tokens\n",
    "    A = set()\n",
    "    for word in T:\n",
    "        for letter in word:\n",
    "            A.add(letter)\n",
    "    A.add(' ')\n",
    "    return list(A)\n",
    "        \n",
    "def make_hash(A): # side tool for mapping letters to numbers, with space character inserted.\n",
    "    H = dict( zip(A, range(len(A))))\n",
    "    H[' '] = 0\n",
    "    return H"
   ]
  },
  {
   "cell_type": "markdown",
   "metadata": {},
   "source": [
    "For VMS, we have the following statistics:"
   ]
  },
  {
   "cell_type": "code",
   "execution_count": 4,
   "metadata": {
    "scrolled": true
   },
   "outputs": [
    {
     "name": "stdout",
     "output_type": "stream",
     "text": [
      "word count: 37886\n",
      "vocabulary size: 8078\n",
      "number of folios: 225\n",
      "alphabet:   a c e d g f i h k m l o n q p s r t v y x z\n"
     ]
    }
   ],
   "source": [
    "print \"word count: \" + str(len(T_vms))\n",
    "print \"vocabulary size: \" + str(len(set(T_vms)))\n",
    "print \"number of folios: \" + str(len(FOLIO_LIST))\n",
    "\n",
    "# determine the alphabet\n",
    "A_vms = make_alphabet(T_vms)\n",
    "print \"alphabet: \" + \" \".join(A_vms)\n",
    "H_vms = make_hash(A_vms)"
   ]
  },
  {
   "cell_type": "markdown",
   "metadata": {},
   "source": [
    "and for Moby Dick, we have"
   ]
  },
  {
   "cell_type": "code",
   "execution_count": 5,
   "metadata": {},
   "outputs": [
    {
     "name": "stdout",
     "output_type": "stream",
     "text": [
      "word count: 218329\n",
      "vocabulary size: 17585\n",
      "alphabet:   1 0 3 2 5 4 7 6 9 8 a c b e d g f i h k j m l o n q p s r u t w v y x z\n"
     ]
    }
   ],
   "source": [
    "print \"word count: \" + str(len(T_moby))\n",
    "print \"vocabulary size: \" + str(len(set(T_moby)))\n",
    "A_moby = make_alphabet(T_moby)\n",
    "print \"alphabet: \" + \" \".join(A_moby)\n",
    "H_moby = make_hash(A_moby)"
   ]
  },
  {
   "cell_type": "markdown",
   "metadata": {},
   "source": [
    "We'll also take a brief look at word frequency and token vs length."
   ]
  },
  {
   "cell_type": "markdown",
   "metadata": {},
   "source": [
    "###  Implementing the Algorithm\n",
    "Our algorithm is broken into the following steps:\n",
    "1. Take k n-length substrings from the document.\n",
    "2. Calculate posterior bigrams for each substring.\n",
    "3. Determine the optimal number of clusters via k-means and/or Gaussian Mixture Modeling.\n",
    "\n",
    "Empirically, it might not be, but in the model it is.\n",
    "\n",
    "Smoothing decreases the bias at the cost of increasing the variance."
   ]
  },
  {
   "cell_type": "code",
   "execution_count": 6,
   "metadata": {},
   "outputs": [],
   "source": [
    "import random\n",
    "random.seed(100)\n",
    "\n",
    "import numpy as np\n",
    "\n",
    "def substring(T, n, Index=False):\n",
    "    \n",
    "    if type(T) == type([1,2]): # T is a word list\n",
    "        S = ' '.join(T) # make a string of words\n",
    "        if n > len(S):\n",
    "            n = len(S)\n",
    "        index = random.randint(0, len(S) - n)\n",
    "        \n",
    "        words_behind = len(S[:index].split(' ')) - 1\n",
    "        \n",
    "        if Index:\n",
    "            return [ S[index:(index + n)], words_behind ]\n",
    "        else: \n",
    "            return S[index:(index + n)]\n",
    "        \n",
    "    else: # it's a string\n",
    "        if n > len(T):\n",
    "            n = len(T)\n",
    "        index = random.randint(0, len(T) - n)\n",
    "        \n",
    "        words_behind = len(T[:index].split(' ')) - 1\n",
    "\n",
    "        if Index:\n",
    "            return [T[index:(index + n)], words_behind]\n",
    "        else: \n",
    "            return T[index:(index + n)]\n",
    "    \n",
    "def bigram(S, H, Smooth = 0):\n",
    "    # returns the letter bigram of substring S given the alphabet\n",
    "    \n",
    "    l = len(H) # number of letters in alphabet\n",
    "    B = np.zeros((l,l)) + Smooth\n",
    "    \n",
    "    prev = 0 # stores current index\n",
    "    while prev < len(S) - 1:\n",
    "        l_prev = S[prev] # the last letter\n",
    "        l_curr = S[prev + 1] # the current letter\n",
    "        \n",
    "        i = H[l_prev]\n",
    "        j = H[l_curr]\n",
    "        \n",
    "        # print \"({0},{1})\".format(l_prev,l_curr)\n",
    "            \n",
    "        B[i,j] += 1\n",
    "        prev += 1\n",
    "        \n",
    "    return B / np.sum(B)\n",
    "\n",
    "def trigram(S, H, Smooth = 0):\n",
    "    # returns the letter trigram of substring S given the alphabet\n",
    "    l = len(H)\n",
    "    C = np.ones((l,l,l)) * Smooth\n",
    "    \n",
    "    p = 0\n",
    "    while p < len(S) - 2:\n",
    "        l_pp = S[p]\n",
    "        l_p = S[p+1]\n",
    "        l_c = S[p+2]\n",
    "        \n",
    "        i = H[l_pp]\n",
    "        j = H[l_p]\n",
    "        k = H[l_c]\n",
    "        \n",
    "        C[i][j][k] += 1 # each element represents a unique trigram\n",
    "        p += 1 # increment counter\n",
    "        \n",
    "    return C / np.sum(C)"
   ]
  },
  {
   "cell_type": "code",
   "execution_count": 7,
   "metadata": {},
   "outputs": [],
   "source": [
    "S_moby = substring(T_moby, 200)\n",
    "B_moby = bigram(S_moby, H_moby, Smooth=.001)\n",
    "\n",
    "S_vms = substring(T_vms, 100)\n",
    "B_vms = bigram(S_vms, H_vms)\n",
    "\n",
    "C_moby = trigram(S_moby, H_moby)"
   ]
  },
  {
   "cell_type": "code",
   "execution_count": 8,
   "metadata": {},
   "outputs": [
    {
     "name": "stdout",
     "output_type": "stream",
     "text": [
      "[' ', u'a', u'c', u'e', u'd', u'g', u'f', u'i', u'h', u'k', u'm', u'l', u'o', u'n', u'q', u'p', u's', u'r', u't', u'v', u'y', u'x', u'z']\n"
     ]
    }
   ],
   "source": [
    "aa = [lambda a: a.decode(encoding), A_vms]\n",
    "print aa[1]"
   ]
  },
  {
   "cell_type": "markdown",
   "metadata": {},
   "source": [
    "Let's build a graphic to see visually what this means."
   ]
  },
  {
   "cell_type": "code",
   "execution_count": 9,
   "metadata": {},
   "outputs": [],
   "source": [
    "import matplotlib as mlp\n",
    "import matplotlib.pyplot as plt\n",
    "\n",
    "def bigram_graph(A, B, Labels=True):\n",
    "    # A: alphabet (list), B: bigram\n",
    "    fig, ax = plt.subplots(figsize=(7,7))\n",
    "    \n",
    "    cmap2 = mlp.colors.LinearSegmentedColormap.from_list('my_colormap',\n",
    "                                               ['white','red','blue'],\n",
    "                                               256)\n",
    "    if Labels:\n",
    "        ll = [lambda a: a.decode(encoding), A]\n",
    "        plt.xticks(range(len(A)), ll[1])\n",
    "        plt.yticks(range(len(A)), ll[1])\n",
    "\n",
    "\n",
    "    img2 = plt.imshow(B,interpolation='nearest',\n",
    "                        cmap = cmap2,\n",
    "                        origin='lower'\n",
    "                     )\n",
    "\n",
    "    plt.colorbar(img2,cmap=cmap2) # this is the color bar\n",
    "    \n",
    "    plt.show()\n",
    "    \n",
    "def bigram_letter_analysis(B, H, A, l):\n",
    "    index = H[l]\n",
    "    t = list(B[index] / np.sum(B[index]))\n",
    "    return t\n",
    "    \n",
    "def bigram_letter_analysis_graph(B, H, A, l):\n",
    "    index = H[l]\n",
    "    t = list(B[index] / np.sum(B[index]))\n",
    "    \n",
    "    fig, ax = plt.subplots()\n",
    "\n",
    "    x = range(len(t))\n",
    "    plt.bar(x, t)\n",
    "    plt.xticks(x, [lambda a: a.decode(encoding), A])\n",
    "    plt.ylabel(\"frequency\")\n",
    "    plt.xlabel(\"letter\")\n",
    "    plt.title(\"frequency of letter following '{0}'\".format(l))\n",
    "\n",
    "    plt.show()\n"
   ]
  },
  {
   "cell_type": "code",
   "execution_count": 10,
   "metadata": {},
   "outputs": [
    {
     "name": "stdout",
     "output_type": "stream",
     "text": [
      "ed towards each other and at the apex united in a tufted point where the loose hairy fibres waved to and fro like the top knot on some old pottowottamie sachems head a triangular opening faced towards\n"
     ]
    }
   ],
   "source": [
    "print S_moby"
   ]
  },
  {
   "cell_type": "code",
   "execution_count": 11,
   "metadata": {},
   "outputs": [
    {
     "data": {
      "image/png": "[encoded data removed]",
      "text/plain": [
       "<Figure size 432x288 with 1 Axes>"
      ]
     },
     "metadata": {},
     "output_type": "display_data"
    }
   ],
   "source": [
    "bigram_letter_analysis_graph(B_moby, H_moby, A_moby, ' ')"
   ]
  },
  {
   "cell_type": "markdown",
   "metadata": {},
   "source": [
    "This is a bar graph is a slice of the bigram matrix down onto one dimension, where each bar represents the frequency of the letter following the slice. In this example, we use it to determine the most common letter following `' '`, the space character, which is thus the most common starting letter of a word."
   ]
  },
  {
   "cell_type": "code",
   "execution_count": 12,
   "metadata": {},
   "outputs": [
    {
     "data": {
      "image/png": "[encoded data removed]",
      "text/plain": [
       "<Figure size 504x504 with 2 Axes>"
      ]
     },
     "metadata": {},
     "output_type": "display_data"
    }
   ],
   "source": [
    "bigram_graph(A_moby, B_moby, Labels=True)"
   ]
  },
  {
   "cell_type": "markdown",
   "metadata": {},
   "source": [
    "This is the full bigram matrix. Here, we can see that the most common bigrams are `'s '`, `' t'`, `'he'`, `'e '`. Note that the last three bigrams are the bigram decompositions of `the`, the most common word in the English language, and the first is just the fact that plurals typically end in `s`."
   ]
  },
  {
   "cell_type": "code",
   "execution_count": 13,
   "metadata": {},
   "outputs": [
    {
     "data": {
      "image/png": "[encoded data removed]",
      "text/plain": [
       "<Figure size 504x504 with 2 Axes>"
      ]
     },
     "metadata": {},
     "output_type": "display_data"
    }
   ],
   "source": [
    "bigram_graph(A_moby, C_moby[H_moby['t']], Labels=False) # projecting a trigram down onto the bigram by slicing it"
   ]
  },
  {
   "cell_type": "markdown",
   "metadata": {},
   "source": [
    "Here is a slice of the trigram matrix at letter `t`. The graph represents every observed trigram which starts with the letter `t`. The y-axis is the middle letter, and the x-axis is the ending letter. As you can see, as expected, the highest trigram is `the`, which is expected for English."
   ]
  },
  {
   "cell_type": "markdown",
   "metadata": {},
   "source": [
    "### Initial Comparisons between Voynichese and English\n",
    "Let's look at the visual differences between two identically sampled substrings of English."
   ]
  },
  {
   "cell_type": "code",
   "execution_count": 14,
   "metadata": {},
   "outputs": [
    {
     "name": "stdout",
     "output_type": "stream",
     "text": [
      "String 1: h virtue when lo comes cancer the crab and drags us back and here going from virtue leo a roaring lion lies in the path he gives a few fierce bites and surly dabs with his paw we escape and hail virgo the virgin thats our first love we marry and think to be happy for aye when pop comes libra or the \n",
      "\n",
      "String 2: lone whale as a solitary leviathan is called proves an ancient one like venerable moss bearded daniel boone he will have no one near him but nature herself and her he takes to wife in the wilderness of waters and the best of wives she is though she keeps so many moody secrets the schools composing n\n"
     ]
    },
    {
     "data": {
      "image/png": "[encoded data removed]",
      "text/plain": [
       "<Figure size 1008x720 with 4 Axes>"
      ]
     },
     "metadata": {},
     "output_type": "display_data"
    }
   ],
   "source": [
    "S_m1 = substring(T_moby, 300)\n",
    "S_m2 = substring(T_moby, 300)\n",
    "\n",
    "B_m1 = bigram(S_m1, H_moby)\n",
    "B_m2 = bigram(S_m2, H_moby)\n",
    "\n",
    "print \"String 1: \" + S_m1 + \"\\n\"\n",
    "print \"String 2: \" + S_m2\n",
    "\n",
    "# A: alphabet (list), B: bigram\n",
    "plt.subplots(figsize=(14,10))\n",
    "\n",
    "ax1 = plt.subplot(1,2,1)\n",
    "ax1.set_title(\"String 1\")\n",
    "\n",
    "\n",
    "cmap2 = mlp.colors.LinearSegmentedColormap.from_list('my_colormap',\n",
    "                                           ['white','red','blue'],\n",
    "                                           256)\n",
    "plt.xticks(range(len(A_moby)), A_moby)\n",
    "plt.yticks(range(len(A_moby)), A_moby)\n",
    "\n",
    "\n",
    "img2 = plt.imshow(B_m1,interpolation='nearest',\n",
    "                    cmap = cmap2,\n",
    "                    origin='lower'\n",
    "                 )\n",
    "\n",
    "plt.colorbar(img2,cmap=cmap2) # this is the color bar\n",
    "\n",
    "ax2 = plt.subplot(1,2,2)\n",
    "ax2.set_title(\"String 2\")\n",
    "\n",
    "cmap2 = mlp.colors.LinearSegmentedColormap.from_list('my_colormap',\n",
    "                                           ['white','red','blue'],\n",
    "                                           256)\n",
    "plt.xticks(range(len(A_moby)), A_moby)\n",
    "plt.yticks(range(len(A_moby)), A_moby)\n",
    "\n",
    "\n",
    "img2 = plt.imshow(B_m2,interpolation='nearest',\n",
    "                    cmap = cmap2,\n",
    "                    origin='lower'\n",
    "                 )\n",
    "\n",
    "plt.colorbar(img2,cmap=cmap2) # this is the color bar\n",
    "\n",
    "plt.show()"
   ]
  },
  {
   "cell_type": "markdown",
   "metadata": {},
   "source": [
    "Let's also determine a metric for the differences between two bigraphs: cosine similarity, given by $\\cos(\\theta) = \\frac{A \\cdot B}{|A||B|} $."
   ]
  },
  {
   "cell_type": "markdown",
   "metadata": {},
   "source": [
    "## Multiple Sampling\n",
    "Our algorithm is based on being able to compare multiple bigrams or trigrams, and then cluster them. In order to do so, we need to take multiple n-grams, and then analyze the collection of samples. "
   ]
  },
  {
   "cell_type": "code",
   "execution_count": 15,
   "metadata": {},
   "outputs": [],
   "source": [
    "def streak(D, k, n, Scale=10, Read=False, Smooth=0, Show=False, ngram=\"bigram\"):\n",
    "    if (Scale > k):\n",
    "        Scale = k\n",
    "    # D: document, n: length of strings to sample, k: number of samples\n",
    "    l = 0\n",
    "    D_alphabet = set()\n",
    "    \n",
    "    if type(D) == type([1,2]): # if D is the tokens\n",
    "        D_alphabet = make_alphabet(D)\n",
    "        l = len(D_alphabet)\n",
    "    else: # if D is a string\n",
    "        D_alphabet = make_alphabet(D.split(' ')) # tokenize\n",
    "        l = len(D_alphabet)\n",
    "        \n",
    "    D_hash = make_hash(D_alphabet)\n",
    "    \n",
    "    if ngram == \"bigram\":\n",
    "        M = np.zeros( ( k, l*l) )\n",
    "    if ngram == \"trigram\":\n",
    "        M = np.zeros( (k, l*l*l))\n",
    "    \n",
    "    for i in range(k):\n",
    "        S_i = substring(D, n)\n",
    "        if Read:\n",
    "            print \"Sample {}: {}\\n\".format(i, S_i)\n",
    "\n",
    "            if ngram == \"bigram\": \n",
    "                B_i = bigram(S_i, D_hash, Smooth=Smooth).reshape(1, l*l)\n",
    "                M[i][:] = B_i[:] \n",
    "            if ngram == \"trigram\":\n",
    "                T_i = trigram(S_i, D_hash, Smooth=Smooth).reshape(1, l*l*l)\n",
    "                M[i][:] = T_i[:] \n",
    "                \n",
    "        \n",
    "    if Show:\n",
    "        if ngram == \"bigram\":\n",
    "            fig, ax = plt.subplots(figsize=(k/Scale,l*l/Scale))\n",
    "        if ngram == \"trigram\":\n",
    "            fig, ax = plt.subplots(figsize=(k/Scale, l*l*l/Scale))\n",
    "\n",
    "        cmap2 = mlp.colors.LinearSegmentedColormap.from_list('my_colormap',\n",
    "                                                   ['white','red','blue'],\n",
    "                                                   256)\n",
    "\n",
    "        img2 = plt.imshow(np.transpose(M),interpolation='nearest',\n",
    "                            cmap = cmap2,\n",
    "                            origin='lower'\n",
    "                         )\n",
    "\n",
    "        plt.show()\n",
    "    \n",
    "    return M\n"
   ]
  },
  {
   "cell_type": "code",
   "execution_count": 16,
   "metadata": {
    "scrolled": true
   },
   "outputs": [
    {
     "name": "stdout",
     "output_type": "stream",
     "text": [
      "Sample 0: mans two whales elsewhere in this volume the slanderous aspersion has been disproved that the vocation of whaling is throughout a slatternly untidy business but there is another thing to rebut they hi\n",
      "\n",
      "Sample 1: i say that under such circumstances these ships should not only interchange hails but come into still closer more friendly and sociable contact and especially would this seem to be a matter of course \n",
      "\n",
      "Sample 2: ed with youthful life and begat him curly headed glories now when with royal tranquo i visited this wondrous whale and saw the skull an altar and the artificial smoke ascending from where the real jet\n",
      "\n",
      "Sample 3: iron hoops this old ebony floundered along and in obedience to the word of command came to a dead stop on the opposite side of stubbs sideboard when with both hands folded before him and resting on hi\n",
      "\n",
      "Sample 4:  and using it there without ceremony reaching over the table with it to the imminent jeopardy of many heads and grappling the beefsteaks towards him but that was certainly very coolly done by him and \n",
      "\n",
      "Sample 5: r out again freely depicted in his own vocation gentlemen the canaller would make a fine dramatic hero so abundantly and picturesquely wicked is he like mark antony for days and days along his green t\n",
      "\n",
      "Sample 6: e examining by a dim light divers specimens of skrimshander i sought the landlord and telling him i desired to be accommodated with a room received for answer that his house was full not a bed unoccup\n",
      "\n",
      "Sample 7: ic watch was without intermission as his own yet these two never seemed to speak one man to the other unless at long intervals some passing unmomentous matter made it necessary though such a potent sp\n",
      "\n",
      "Sample 8: ll in drawing nigh to some barbarous isle he declared that a whale must be near soon that peculiar odor sometimes to a great distance given forth by the living sperm whale was palpable to all the watc\n",
      "\n",
      "Sample 9: a strait jacket he swung to the mad rockings of the gales and when running into more sufferable latitudes the ship with mild stunsails spread floated across the tranquil tropics and to all appearances\n",
      "\n"
     ]
    }
   ],
   "source": [
    "M = streak(T_moby, 10, 200, Scale=15, Read=True, ngram=\"trigram\")"
   ]
  },
  {
   "cell_type": "code",
   "execution_count": null,
   "metadata": {
    "scrolled": true
   },
   "outputs": [
    {
     "data": {
      "text/plain": [
       "Text(0.5,1,'Variance of each bigram (max var: 8.187940006121826e-05)')"
      ]
     },
     "execution_count": 17,
     "metadata": {},
     "output_type": "execute_result"
    }
   ],
   "source": [
    "M_var = np.var(M, 0)\n",
    "\n",
    "fig, ax = plt.subplots()\n",
    "\n",
    "x = range(len(M_var))\n",
    "plt.bar(x, M_var)\n",
    "plt.ylabel(\"variance\")\n",
    "plt.xlabel(\"pair of letters\")\n",
    "plt.title(\"Variance of each bigram (max var: {0})\".format( str(np.max(M_var)) ))"
   ]
  },
  {
   "cell_type": "markdown",
   "metadata": {},
   "source": [
    "The streaking of similar hues across columns and in the same row is exactly what we'd expect for bigrams drawn from the same language. However, what we are also unsure of is what accounts for the variance in hues. In theory, if we took larger and larger samples, the contrast across streaks would diminish. We'll show this with 20 samples of 1000 characters."
   ]
  },
  {
   "cell_type": "code",
   "execution_count": null,
   "metadata": {
    "scrolled": true
   },
   "outputs": [],
   "source": [
    "l = len(A_moby)\n",
    "\n",
    "M2 = np.zeros( ( 20, 1369) )\n",
    "\n",
    "for i in range(20):\n",
    "    S_i = substring(T_moby, 1000)\n",
    "    B_i = bigram(S_i, H_moby).reshape(1, 1369)\n",
    "    M2[i][:] = B_i[:]\n",
    "    \n",
    "M2_var = np.var(M2, 0)\n",
    "\n",
    "fig, ax = plt.subplots()\n",
    "\n",
    "x = range(len(M2_var))\n",
    "plt.bar(x, M2_var)\n",
    "plt.ylabel(\"variance\")\n",
    "plt.xlabel(\"pair of letters\")\n",
    "plt.title(\"Variance of each bigram (max var: {0})\".format( str(np.max(M2_var)) ))\n"
   ]
  },
  {
   "cell_type": "markdown",
   "metadata": {},
   "source": [
    "## Trigrams\n",
    "So we did the analysis for bigrams, now we need to do the analysis for trigrams, which are empirically more robust.\n",
    "\n",
    "### Steps\n",
    "1. Get example substrings\n",
    "2. Generate trigrams\n",
    "3. KL Divergence on them"
   ]
  },
  {
   "cell_type": "code",
   "execution_count": null,
   "metadata": {
    "scrolled": true
   },
   "outputs": [],
   "source": [
    "from mpl_toolkits import mplot3d\n",
    "\n",
    "# %matplotlib notebook\n",
    "import numpy as np\n",
    "import matplotlib.pyplot as plt\n",
    "\n",
    "n = 26\n",
    "\n",
    "# probably could use meshgrid\n",
    "X = np.array([ i*np.ones(n*n, dtype=int) for i in range(n) ], dtype=int).reshape((1,-1))[0].tolist() # 1,1,1,1,....2,2,2,2,....n,n,n,n where each interval is n^2 long\n",
    "Y = np.array([ [ i*np.ones(n, dtype=int) for i in range(n)] for j in range(n)], dtype=int).reshape((1,-1))[0].tolist()\n",
    "Z = np.array([ j*np.ones(n*n, dtype=int) for j in range(n) ], dtype=int).reshape((1,-1), order='F')[0].tolist() # 1,2,3,..n, 1,2,3,..n, etc."
   ]
  },
  {
   "cell_type": "code",
   "execution_count": null,
   "metadata": {},
   "outputs": [],
   "source": [
    "# to get the transparencies right, need to do ax.scatter for each transparency level\n",
    "\n",
    "D = np.random.randint(255, size=(n*n*n,3))\n",
    "S = np.random.randint(5, size=(n*n*n, 1))\n",
    "\n",
    "ax = plt.axes(projection='3d');\n",
    "\n",
    "fig = plt.figure();\n",
    "ax = fig.add_subplot(111, projection = '3d');\n",
    "\n",
    "ax.scatter(X, Y, Z, c = D/255., s = S, alpha = .5);"
   ]
  },
  {
   "cell_type": "markdown",
   "metadata": {},
   "source": [
    "## Sampling from Shuffled Multilingual Documents\n",
    "We will now create a set of multilingual test documents, using the [Cross Language Dataset](https://github.com/FerreroJeremy/Cross-Language-Dataset), which is a collection of English, French, and Spanish sentences and documents. For our purposes, we will create monolingual documents first, and show that the bigram streak charts are sufficiently different to partition them. \n",
    "\n",
    "In particular, to construct a multilingual document, we'll use a model inspired by Latent Dirichlet Allocation. We will choose a mixture parameter $\\textbf{p} = (p_1, p_2, ..., p_N)$ where $N$ is the number of languages we are mixing. We will use $\\textbf{p}$ as the parameter for a multinomial distribution $L_{\\textbf{p}}$. Then, from this multinomial distribution, we will draw the language that a sentence is from. Finally, we will choose a sentence from the sentence bank in that language, and append it to the document. \n",
    "\n",
    "If we wanted to generalize the document-generating process, we could draw $\\textbf{p}$ from a Dirichlet distribution with parameter $\\alpha$, which would determine how evenly distributed the languages are within the corpus, though this step is frankly extra and unnecessary."
   ]
  },
  {
   "cell_type": "code",
   "execution_count": null,
   "metadata": {},
   "outputs": [],
   "source": [
    "import unidecode # for removing diacritics in spanish and french (do i actually need to? I think not!)\n",
    "from string import punctuation # for removing punctuation\n",
    "\n",
    "# import sys  \n",
    "# reload(sys)  \n",
    "# sys.setdefaultencoding('utf8')\n",
    "\n",
    "with open('/home/ubuntu/workspace/Europarl/en_manifest.txt') as fp:\n",
    "    EN_MANIFEST = fp.readlines()\n",
    "\n",
    "with open('/home/ubuntu/workspace/Europarl/es_manifest.txt') as fp:\n",
    "    ES_MANIFEST = fp.readlines()\n",
    "\n",
    "with open('/home/ubuntu/workspace/Europarl/fr_manifest.txt') as fp:\n",
    "    FR_MANIFEST = fp.readlines()\n",
    "    \n",
    "MANIFEST_LIST = [EN_MANIFEST, ES_MANIFEST, FR_MANIFEST]\n",
    "languages = ['en', 'es', 'fr']\n",
    "\n",
    "def document(p, s, Shuffle=False, Labels=False):\n",
    "    # p is an N x 1 array, where N is the number of languages. \n",
    "    # this will return a string with s sentences in various languages.\n",
    "    \n",
    "    m = np.random.multinomial(s, p) # the number of sentences from each language\n",
    "    \n",
    "    lang_codes = [] # stores the language codes corresponding to those sentences\n",
    "    S = [] # stores the sentences\n",
    "    \n",
    "    for i in range(len(m)): # for each language\n",
    "        lang_count = m[i] # the number of sentences in that language will appear\n",
    "        lang_code = languages[i] # the language code\n",
    "        lang_list = MANIFEST_LIST[i] # the language manifest\n",
    "        w = random.sample(lang_list, lang_count) # pick lang_count sentences from the lang_list\n",
    "        S.extend([ sentence.split('*\\n')[0] for sentence in w ])\n",
    "        lang_codes.extend([ lang_code for j in range(lang_count) ] )\n",
    "    \n",
    "    P = zip(lang_codes, S)\n",
    "    if Shuffle:\n",
    "        random.shuffle(P)\n",
    "    \n",
    "    sentence_list = []\n",
    "    labels = []\n",
    "    \n",
    "    for pair in P:\n",
    "        lang_code = pair[0]\n",
    "        file_name = pair[1]\n",
    "        with open('/home/ubuntu/workspace/Europarl/{0}/{1}'.format(lang_code, file_name)) as sent_doc:\n",
    "            sent_doc_list = sent_doc.readlines()\n",
    "            sent = random.sample(sent_doc_list, 1)[0]\n",
    "            \n",
    "            tokenizer = RegexpTokenizer(r'[^{0} ]+'.format(punctuation)) # removes all punctuation (with some exceptions)\n",
    "            T_sent = map(lambda s: s.lower().strip(), tokenizer.tokenize(\n",
    "                sent\n",
    "                .replace(\"'\",\"\")\n",
    "                .replace('\\xe2\\x80\\x99','') # another quotation encoding\n",
    "                .replace('\\xc2\\xab','') # french left quotation\n",
    "                .replace('\\xc2\\xbb','') # french right quotation\n",
    "                .replace('\\xc2\\xb0','') # degree sign\n",
    "                .replace('\\xc2\\xbf','') # spanish upside down question mark\n",
    "                .replace('\\xc2\\xba','') # other degree sign\n",
    "                .replace('\\xc2\\xa1','') # spanish exclamation point\n",
    "            )) # cleaned tokens of the sentence\n",
    "            T_sent_cleaner = filter(None, T_sent) # remove null characters\n",
    "            \n",
    "            # add a word to language tagger\n",
    "            label = [lang_code for i in range(len(T_sent_cleaner))]\n",
    "            labels.extend(label)\n",
    "            \n",
    "            t = ' '.join(T_sent)\n",
    "            sentence_list.append(t[:-1])\n",
    "    \n",
    "    d = ' '.join(sentence_list)\n",
    "    \n",
    "    if(Labels):\n",
    "        return [d, labels]\n",
    "    else:\n",
    "        return d"
   ]
  },
  {
   "cell_type": "code",
   "execution_count": null,
   "metadata": {},
   "outputs": [],
   "source": [
    "[D, labels] = document([.3,.4,.3], 10, Shuffle=True, Labels=True)\n",
    "print D\n",
    "print zip(D.split(' '), labels)"
   ]
  },
  {
   "cell_type": "markdown",
   "metadata": {},
   "source": [
    "Okay, we've now created a function that creates a document of multiple languages, given the parameters of a multinomoal distribution, and the number of sentences in the document. We can also determine whether to shuffle the languages or not. Further, we can create tagged versions of the document which label each word with the language it was drawn from. We'll now show some simple examples of our document generator."
   ]
  },
  {
   "cell_type": "code",
   "execution_count": null,
   "metadata": {},
   "outputs": [],
   "source": [
    "# english only document\n",
    "print 'english:\\n' + document([1.,0.,0.], 10) + '\\n'\n",
    "\n",
    "# spanish only document\n",
    "print 'spanish:\\n' + document([0.,1.,0.], 10) + '\\n'\n",
    "\n",
    "# french only document \n",
    "print 'french:\\n' + document([0.,0.,1.], 10) + '\\n'\n",
    "\n",
    "# two parts english to one part spanish, shuffled\n",
    "print 'mixed:\\n' + document([2/3.,1/3.,.0], 10, Shuffle=True) + '\\n'"
   ]
  },
  {
   "cell_type": "markdown",
   "metadata": {},
   "source": [
    "Let's now write a wrapper which autogenerates the necessary info for bigrams (or trigrams)."
   ]
  },
  {
   "cell_type": "code",
   "execution_count": null,
   "metadata": {},
   "outputs": [],
   "source": [
    "def auto_info(D):\n",
    "    D_tokens = D.split(' ') # tokenizes the document\n",
    "    D_alphabet = make_alphabet(D_tokens)\n",
    "    D_hash = make_hash(D_alphabet)\n",
    "    return [D_alphabet, D_hash, len(D), len(D_tokens), len(set(D_tokens))]"
   ]
  },
  {
   "cell_type": "code",
   "execution_count": null,
   "metadata": {
    "scrolled": false
   },
   "outputs": [],
   "source": [
    "[D3, labels] = document([.3, .4, 0.3], 10, Labels=True, Shuffle=False)\n",
    "[D_alphabet, D_hash, char_length, word_length, vocab_size] = auto_info(D3)\n",
    "\n",
    "print len(D_alphabet)\n",
    "\n",
    "s = substring(D3, 200)\n",
    "print s\n",
    "B_s = bigram(s, D_hash, Smooth=.001)\n",
    "# bigram_graph(D_alphabet, B_s)"
   ]
  },
  {
   "cell_type": "markdown",
   "metadata": {},
   "source": [
    "Because of some unicode to ascii encoding issues, I can't label the graphs, but they are effectively the same."
   ]
  },
  {
   "cell_type": "code",
   "execution_count": null,
   "metadata": {},
   "outputs": [],
   "source": [
    "ANSI = {'en':'\\033[1;31;1m', 'es':'\\033[1;32;1m', 'fr':'\\033[1;34;1m'} # codes for colored text output by language\n",
    "\n",
    "def supervised_print(string, labels):\n",
    "    # string:  a string, n: length of strings to sample, labels: labels of words\n",
    "    if type(string) == type('string'):\n",
    "        Words = string.split(' ')\n",
    "    \n",
    "    sl = set(labels)\n",
    "    d = dict(zip(sl, range(len(sl))))\n",
    "    \n",
    "    pstring = []\n",
    "    for i in range(len(Words)):\n",
    "        label = labels[i] # the label for that word\n",
    "        colorCode = ANSI[label] # the color for that index\n",
    "        coloredWord = colorCode + Words[i] # color the word\n",
    "        pstring.append(coloredWord) # add it to the list\n",
    "    return ' '.join(pstring) + '\\033[1;34;0m' # turn the list into a string and reset the color\n",
    "    \n"
   ]
  },
  {
   "cell_type": "code",
   "execution_count": null,
   "metadata": {
    "scrolled": true
   },
   "outputs": [],
   "source": [
    "[D1, L1] = document([.3,.4,.3], 10, Shuffle=True, Labels=True)\n",
    "print supervised_print(D1, L1)"
   ]
  },
  {
   "cell_type": "markdown",
   "metadata": {},
   "source": [
    "Now, to modify the streak chart in order to incorporate the word coloring:"
   ]
  },
  {
   "cell_type": "code",
   "execution_count": null,
   "metadata": {},
   "outputs": [],
   "source": [
    "def mod_streak(D, labels, k, n, Scale=10, Read=False, Smooth=0, Show=False):\n",
    "    T = D.split(' ')\n",
    "    # D: document string, n: length of strings to sample, k: number of samples\n",
    "    D_alphabet = set()\n",
    "    \n",
    "    D_alphabet = make_alphabet(D) # tokenize\n",
    "        \n",
    "    l = len(D_alphabet)\n",
    "        \n",
    "    D_hash = make_hash(D_alphabet)\n",
    "    M = np.zeros( ( k, l*l) )\n",
    "    \n",
    "    for i in range(k):\n",
    "        [S_i, index] = substring(T, n, Index=True) # index is corresponding to a character, not a word.\n",
    "        labels_i = labels[index : ( index + len(S_i.split(' ')) )]\n",
    "        \n",
    "        if Read:\n",
    "            print \"Sample {}: {}\\n\".format(i, supervised_print(S_i, labels_i))\n",
    "        B_i = bigram(S_i, D_hash, Smooth=Smooth).reshape(1, l*l)\n",
    "        M[i][:] = B_i[:] \n",
    "        \n",
    "    if Show:\n",
    "        fig, ax = plt.subplots(figsize=(k/scale,l*l/scale))\n",
    "\n",
    "        cmap2 = mlp.colors.LinearSegmentedColormap.from_list('my_colormap',\n",
    "                                                   ['white','red','blue'],\n",
    "                                                   256)\n",
    "\n",
    "        img2 = plt.imshow(np.transpose(M),interpolation='nearest',\n",
    "                            cmap = cmap2,\n",
    "                            origin='lower'\n",
    "                         )\n",
    "\n",
    "        plt.show()\n",
    "    \n",
    "    return M\n"
   ]
  },
  {
   "cell_type": "code",
   "execution_count": null,
   "metadata": {},
   "outputs": [],
   "source": [
    "test = mod_streak(D1, L1, 20, 100, Read=True)"
   ]
  },
  {
   "cell_type": "markdown",
   "metadata": {},
   "source": [
    "In the test above, you can clearly see that these sample strings are too 'mixed' to extract a coherent set of bigrams. 'Mixed' here refers to a few phenomena: first, the sentence bank from which we draw contains sentences that are very brief at times; second, the shuffling of the sentences is too thorough, and thus each draw of a random substring is hitting on a break point; and third, the length parameter of the substring is too high, so it increases the probability of hitting on a break point. Ideally, we avoid editing our test bank, as that would constrain our application even farther. Instead, we can limit the mixing of our documents by changing the parameters of the multinomial distribution or setting `Shuffle=False` parameter in our `document` function. In addition, we could also limit the length of the substrings, but I fear that this would limit the ability of the bigrams to converge effectively. \n",
    "\n",
    "Now that we have the tools to build our dataset and visually understand the algorithms at work, we now need to come up with the tests for determining how many languages are in a document. The main idea here is that from the bigram matrices we've sampled, if the bigram matrices are sufficiently different, then we assume there are multiple languages present. Furthermore, if there are multiple languages present, we want to be able to count how many are present. \n",
    "\n",
    "Let's first recall that the bigram matrices are estimates of a Markov model's state transition matrix, which thus represent probabilities. We can thus consider each matrix a probability distribution. We want to test how similar each of our distributions are, and thus a natural test will be a pairwise symmetric KL Divergence test (psKLD). The KL Divergence is a measure of how similar two probability functions are. We'd expect that if there were one language present, then the psKLD plot will on average measure a very low number, with a unimodal distribution. However, if there were more than one language, we'd expect a distribution with $\\binom{n}{2}$ modes, where $n$ is the true number of languages present. \n",
    "\n",
    "A second approach is to consider each matrix a random variable drawn from a language-dependent distribution. In this scenario, each language has a true bigram matrix, and any substring is an approximation of it, where the variance can be accounted for by word choice or other negligent latent variables. In this context, we'd want to use a high-dimensional Gaussian Mixture Model (GMM) to determine the number of Guassian distributions of matrices present in our document, where each Gaussian distribution corresponds to a language."
   ]
  },
  {
   "cell_type": "markdown",
   "metadata": {},
   "source": [
    "### psKLD\n",
    "\n",
    "To implement psKLD, we'll need to build a function which takes in a streak chart, and for each pair computes the psKLD. We'll then plot them and see what happens. We'll test this on six types of documents: shuffled vs. unshuffled, and one language, two languages, or three languages. We'll keep the document length fixed at $m = 30$ sentences, and we'll create a corpus of 20 documents."
   ]
  },
  {
   "cell_type": "code",
   "execution_count": null,
   "metadata": {},
   "outputs": [],
   "source": [
    "one_unshuffled = [ document([1.,0.,0.], 30, Labels=True) for i in range(20) ]\n",
    "two_unshuffled = [ document([.5,.5,0.], 30, Labels=True) for i in range(20) ]\n",
    "three_unshuffled = [ document([1/3.,1/3.,1/3.], 30, Labels=True) for i in range(20) ]\n",
    "two_shuffled = [ document([.5,.5,0.], 30, Labels=False, Shuffle=True) for i in range(20) ]\n",
    "three_shuffled = [ document([1/3.,1/3.,1/3.], 30, Labels=False, Shuffle=True) for i in range(20) ]"
   ]
  },
  {
   "cell_type": "markdown",
   "metadata": {},
   "source": [
    "We'll need to build a tool to measure the psKLD given a streak graph. The formula for psKLD is given by \n",
    "$$\n",
    "H(p,q) = \\sum_{x \\in X} p(x) \\log_2 \\frac{p(x)}{q(x)} + \\sum_{x \\in X} q(x) \\log_2 \\frac{q(x)}{p(x)},\n",
    "$$`\n",
    "where $p$ and $q$ are probability functions over a space $X$. When $p = q$, then the $\\frac{p(x)}{q(x)} = 1$, so the $\\log$ term will be 0, and thus the divergence will be 0. Note, however, that the KL divergence is always positive by Gibb's Inequality. We can rexpress this as \n",
    "$$\n",
    "H(p,q) = \\sum_{x \\in X} \\left(p(x)-q(x)\\right) \\log_2 \\frac{p(x)}{q(x)},\n",
    "$$\n",
    "which is easier to see as always positive. \n",
    "\n",
    "We'll now implement it."
   ]
  },
  {
   "cell_type": "code",
   "execution_count": null,
   "metadata": {},
   "outputs": [],
   "source": [
    "def H(p,q):\n",
    "    # p and q are bigram or trigram matrix samples\n",
    "    h = np.sum( (p - q) * np.log(np.divide(p, q)) )\n",
    "    return h\n",
    "\n",
    "def psKLD(M, k, Status=False):\n",
    "    # k is \n",
    "    d = []\n",
    "    for i in range(k): # for each sample bigram in a streak\n",
    "        if Status:\n",
    "            print \"Ngram {} of {}\\n\".format(i,k)\n",
    "        p = M[i,:]\n",
    "        for j in range(i+1,k): # for each sample ahead in the streak\n",
    "            d.append(H(p, M[j,:])) # store the KLD\n",
    "            \n",
    "    return np.array(d)\n",
    "            "
   ]
  },
  {
   "cell_type": "markdown",
   "metadata": {},
   "source": [
    "Let's begin with the `one_unshuffled` corpus. It's insightful to know the lengths of the documents we are working with, so let's determine the character and word lengths, as well as the vocabulary sizes now. "
   ]
  },
  {
   "cell_type": "code",
   "execution_count": null,
   "metadata": {},
   "outputs": [],
   "source": [
    "# [character length, word length, vocab size]\n",
    "one_unshuffled_stats = np.array([ auto_info(one_unshuffled[i][0])[2:] for i in range(len(one_unshuffled))])\n",
    "print one_unshuffled_stats, np.mean(one_unshuffled_stats, axis=0)"
   ]
  },
  {
   "cell_type": "code",
   "execution_count": null,
   "metadata": {},
   "outputs": [],
   "source": [
    "def index_to_coord(i, cols):\n",
    "    r = i / cols\n",
    "    c = i % cols\n",
    "    return [r,c]"
   ]
  },
  {
   "cell_type": "markdown",
   "metadata": {},
   "source": [
    "Each of these documents is roughly 2.5% the length of VMS in terms of word length, and has a vocab size of around 5% of the VMS, for some perspective. They're about 5 times as long as the average folio."
   ]
  },
  {
   "cell_type": "markdown",
   "metadata": {},
   "source": [
    "For each of the 20 documents in the corpus, we'll take $k$ samples of $n$-length substrings. We can determine the optimal $n$ via cross validation later, but for now we'll set $k = 50$ and $n = 175$, which was derived in other literature. Thus, over the entire corpus of 20 documents (100k characters, 18k words), we'll be taking 1000 samples and in total about 175k characters. This obviously means we'll be sampling most letters twice, and I'm not sure how that impacts things. Ideally, when we look at a histogram of the psKLD, it should be unimodal, since these are all from the same language. Things are getting redundant."
   ]
  },
  {
   "cell_type": "code",
   "execution_count": null,
   "metadata": {},
   "outputs": [],
   "source": [
    "k = 50\n",
    "n = 175\n",
    "\n",
    "D1 = []\n",
    "for i in range(len(one_unshuffled)):\n",
    "    M_i = streak(one_unshuffled[i][0], k, n, Smooth=.01) # make a streak\n",
    "    d_i = psKLD(M_i, k) # do the pointwise psKLDs\n",
    "    D1.append(d_i)\n",
    "    \n",
    "D1 = np.array(D1)\n"
   ]
  },
  {
   "cell_type": "code",
   "execution_count": null,
   "metadata": {},
   "outputs": [],
   "source": [
    "# testing for trigram streak\n",
    "k = 50\n",
    "n = 175\n",
    "\n",
    "D1 = []\n",
    "# for i in range(len(one_unshuffled)):\n",
    "i = 3\n",
    "M_i = streak(one_unshuffled[i][0], k, n, Smooth=.01, ngram=\"trigram\") # make a streak\n",
    "d_i = psKLD(M_i, k) # do the pointwise psKLDs\n",
    "D1.append(d_i)\n",
    "    \n",
    "D1 = np.array(D1)"
   ]
  },
  {
   "cell_type": "code",
   "execution_count": null,
   "metadata": {},
   "outputs": [],
   "source": [
    "cols = 4\n",
    "f, axarr = plt.subplots(5, cols, figsize=(15,12)) # 5 rows, 4 cols for 20 doc histograms in corpus\n",
    "for i in range(D1.shape[0]): # for each document\n",
    "    coor = index_to_coord(i, cols)\n",
    "    color = list(np.random.rand(3))\n",
    "    axarr[coor[0], coor[1]].hist(D1[i], bins=30, color = color) # can go as high as 50 bins"
   ]
  },
  {
   "cell_type": "code",
   "execution_count": null,
   "metadata": {},
   "outputs": [],
   "source": [
    "medians = np.array( [ np.median(D1[i]) for i in range(D1.shape[0]) ] )\n",
    "print medians"
   ]
  },
  {
   "cell_type": "markdown",
   "metadata": {},
   "source": [
    "What we'd expect further is that if we increase $n$, the length of the substrings, our mean would get closer to 0. Let's check the two language unshuffled corpus."
   ]
  },
  {
   "cell_type": "code",
   "execution_count": null,
   "metadata": {},
   "outputs": [],
   "source": [
    "k = 500\n",
    "n = 175\n",
    "\n",
    "D2 = []\n",
    "for i in range(len(two_unshuffled)):\n",
    "    M_i = streak(two_unshuffled[i][0], k, n, Smooth=.01) # make a streak\n",
    "    d_i = psKLD(M_i, k) # do the pointwise psKLDs\n",
    "    D2.append(d_i)\n",
    "    \n",
    "D2 = np.array(D2)"
   ]
  },
  {
   "cell_type": "code",
   "execution_count": null,
   "metadata": {},
   "outputs": [],
   "source": [
    "ggg = np.array([ len(auto_info(two_unshuffled[i][0])[0]) for i in range(len(two_unshuffled)) ])\n",
    "print np.mean(ggg)"
   ]
  },
  {
   "cell_type": "code",
   "execution_count": null,
   "metadata": {},
   "outputs": [],
   "source": [
    "cols = 4\n",
    "f, axarr = plt.subplots(5, cols, figsize=(15,12)) # 5 rows, 4 cols for 20 doc histograms in corpus\n",
    "for i in range(D2.shape[0]): # for each document\n",
    "    coor = index_to_coord(i, cols)\n",
    "    color = list(np.random.rand(3))\n",
    "    axarr[coor[0], coor[1]].hist(D2[i], bins=40, color = color)    "
   ]
  },
  {
   "cell_type": "markdown",
   "metadata": {},
   "source": [
    "Haha! Two modes! We're really cooking! If my hypothesis is correct, how many modes should we see for a document with $n$ languages? Since we are looking at pairs of languages, we should expect to see $\\binom{n}{2}$, and in addition the null difference between a language and itself, thus $\\binom{n}{2}+1$ modes for $n$ languages. Thus for a trilingual document, we should see $\\binom{3}{2} + 1 = 4$ modes."
   ]
  },
  {
   "cell_type": "code",
   "execution_count": null,
   "metadata": {},
   "outputs": [],
   "source": [
    "k = 50\n",
    "n = 175\n",
    "\n",
    "D3 = []\n",
    "for i in range(len(three_unshuffled)): # there are 20 documents in the corpus\n",
    "    M_i = streak(three_unshuffled[i][0], k, n, Smooth=.01) # make a streak for each document\n",
    "    d_i = psKLD(M_i, k) # do the psKLDs within each document\n",
    "    D3.append(d_i) # store the psKLD array in D3\n",
    "    \n",
    "D3 = np.array(D3) # will be [D x 1 x (n 2)]"
   ]
  },
  {
   "cell_type": "code",
   "execution_count": null,
   "metadata": {},
   "outputs": [],
   "source": [
    "cols = 4\n",
    "f, axarr = plt.subplots(5, cols, figsize=(15,12)) # 5 rows, 4 cols for 20 doc histograms in corpus\n",
    "for i in range(D3.shape[0]): # for each document\n",
    "    coor = index_to_coord(i, cols)\n",
    "    color = list(np.random.rand(3))\n",
    "    axarr[coor[0], coor[1]].hist(D3[i], bins=40, color = color)    "
   ]
  },
  {
   "cell_type": "markdown",
   "metadata": {},
   "source": [
    "I believe I need to explain further as we get more and more abstracted from the actual text: each histogram represents the total counts of observed psKLD's between two bigram matrices, which represent probability distributions of bigrams, which are approximate characterisations of languages. Perhaps I should include the documents that each one of these histograms are derived from. Effectively, each histogram is a visual representation of the mix of languages present."
   ]
  },
  {
   "cell_type": "code",
   "execution_count": null,
   "metadata": {},
   "outputs": [],
   "source": [
    "three_unshuffled_a = [ document([1/3.,1/3.,1/3.], 100, Labels=True) for i in range(20) ]"
   ]
  },
  {
   "cell_type": "code",
   "execution_count": null,
   "metadata": {},
   "outputs": [],
   "source": [
    "k = 300\n",
    "n = 175\n",
    "\n",
    "# overlap rate of almost 2.625 (each letter is sampled 2.625 times)\n",
    "# 300 samples of 175 characters for each of 20 documents = 6000 samples\n",
    "\n",
    "D3_a = []\n",
    "for i in range(len(three_unshuffled)):\n",
    "    M_i = streak(three_unshuffled[i][0], k, n, Smooth=.01) # make a streak\n",
    "    d_i = psKLD(M_i, k) # do the pointwise psKLDs\n",
    "    D3_a.append(d_i)\n",
    "    \n",
    "D3_a = np.array(D3_a)"
   ]
  },
  {
   "cell_type": "code",
   "execution_count": null,
   "metadata": {},
   "outputs": [],
   "source": [
    "cols = 4\n",
    "f, axarr = plt.subplots(5, cols, figsize=(15,12)) # 5 rows, 4 cols for 20 doc histograms in corpus\n",
    "for i in range(D3_a.shape[0]): # for each document\n",
    "    coor = index_to_coord(i, cols)\n",
    "    color = list(np.random.rand(3))\n",
    "    axarr[coor[0], coor[1]].hist(D3_a[i], bins=100, color = color) # can go as high as 300 bins  "
   ]
  },
  {
   "cell_type": "markdown",
   "metadata": {},
   "source": [
    "There are a few things we can eek out of these larger documents. First and foremost is that if there is some sort of identity histogram $I$ which represents the psKLD histogram of a monolingual document, and which is consistent across all languages, then we can try to remove it from the histograms above. This would then amplify the signal of the other psKLD Gaussians, which would give us a better insight into how many modes are in the histogram, which would thus tell us how many languages are present. Second, when trying to fit a best Gaussian mixture model to the histograms, we won't be fitting $n$ Gaussians, but $\\binom{n}{2} + 1$ Gaussians, which correspond to each psKLD difference between the languages present. Finally, notice that they all still share that left skew from 0 to 2. Not sure why yet, but I want to compare whether they are all coming from the same histogram distribution via the Anderson-Darling goodness of fit measure. Note that these should be intrinsically tied to the multinomial distributions which we generated earlier. Each document histogram here might simply be a Gaussian mixture given by\n",
    "$$\n",
    "M = p_1 p_2 D_{\\ell_1, \\ell_2} + p_2 p_3 D_{\\ell_1, \\ell_3} + \\cdots,\n",
    "$$\n",
    "or\n",
    "$$\n",
    "M = \\sum_{i=1}^L \\sum_{j=1}^L p_i p_j D_{\\ell_i, \\ell_j},\n",
    "$$\n",
    "where $D_{\\ell_i, \\ell_j}$ is the random variable representing the psKLD between two languages. "
   ]
  },
  {
   "cell_type": "markdown",
   "metadata": {},
   "source": [
    "What about for mixed documents?"
   ]
  },
  {
   "cell_type": "code",
   "execution_count": null,
   "metadata": {},
   "outputs": [],
   "source": [
    "print two_shuffled[0]"
   ]
  },
  {
   "cell_type": "code",
   "execution_count": null,
   "metadata": {},
   "outputs": [],
   "source": [
    "k = 50\n",
    "n = 175\n",
    "\n",
    "# overlap rate of almost 2.625 (each letter is sampled 2.625 times)\n",
    "# 300 samples of 175 characters for each of 20 documents = 6000 samples\n",
    "D2_s = []\n",
    "for i in range(len(two_shuffled)):\n",
    "    M_i = streak(two_shuffled[i], k, n, Smooth=.01) # make a streak\n",
    "    print np.std(M_i)\n",
    "    d_i = psKLD(M_i, k) # do the pointwise psKLDs\n",
    "    D2_s.append(d_i)\n",
    "    \n",
    "D2_s = np.array(D2_s)"
   ]
  },
  {
   "cell_type": "code",
   "execution_count": null,
   "metadata": {},
   "outputs": [],
   "source": [
    "cols = 4\n",
    "f, axarr = plt.subplots(5, cols, figsize=(15,12)) # 5 rows, 4 cols for 20 doc histograms in corpus\n",
    "for i in range(D2_s.shape[0]): # for each document\n",
    "    coor = index_to_coord(i, cols)\n",
    "    color = list(np.random.rand(3))\n",
    "    axarr[coor[0], coor[1]].hist(D2_s[i], bins=35, color = color) # can go as high as 300 bins  "
   ]
  },
  {
   "cell_type": "code",
   "execution_count": null,
   "metadata": {},
   "outputs": [],
   "source": [
    "k = 50\n",
    "n = 50\n",
    "\n",
    "# overlap rate of almost 2.625 (each letter is sampled 2.625 times)\n",
    "# 300 samples of 175 characters for each of 20 documents = 6000 samples\n",
    "D3_s = []\n",
    "for i in range(len(two_shuffled)):\n",
    "    M_i = streak(three_shuffled[i], k, n, Smooth=.01) # make a streak\n",
    "    print np.std(M_i)\n",
    "    d_i = psKLD(M_i, k) # do the pointwise psKLDs\n",
    "    D3_s.append(d_i)\n",
    "    \n",
    "D3_s = np.array(D3_s)"
   ]
  },
  {
   "cell_type": "code",
   "execution_count": null,
   "metadata": {},
   "outputs": [],
   "source": [
    "cols = 4\n",
    "f, axarr = plt.subplots(5, cols, figsize=(15,12)) # 5 rows, 4 cols for 20 doc histograms in corpus\n",
    "for i in range(D3_s.shape[0]): # for each document\n",
    "    coor = index_to_coord(i, cols)\n",
    "    color = list(np.random.rand(3))\n",
    "    axarr[coor[0], coor[1]].hist(D3_s[i], bins=35, color = color) # can go as high as 300 bins  "
   ]
  },
  {
   "cell_type": "markdown",
   "metadata": {},
   "source": [
    "## VMS\n",
    "Let's now run this on the Voynich. We can first treat each folio in VMS as a document in a corpus, and then we can also treat VMS as a single document. This will thus determine whether VMS is in one language, and whether each folio is in one language. It might later be able to let us identify which folio is in which language."
   ]
  },
  {
   "cell_type": "code",
   "execution_count": null,
   "metadata": {},
   "outputs": [],
   "source": [
    "FolioCorpus = [ ' '.join(folio) for folio in FOLIOS ]\n",
    "LongFolioCorpus = filter(lambda f: len(f) > 1000, FolioCorpus)\n",
    "VMS = ' '.join(T_vms)"
   ]
  },
  {
   "cell_type": "code",
   "execution_count": null,
   "metadata": {},
   "outputs": [],
   "source": [
    "FolioLength = np.array([ len(folio) for folio in FolioCorpus ])\n",
    "print FolioLength\n",
    "print 'avg folio char length: ' + str(np.mean(FolioLength))"
   ]
  },
  {
   "cell_type": "code",
   "execution_count": null,
   "metadata": {},
   "outputs": [],
   "source": [
    "k = 300\n",
    "n = 175\n",
    "\n",
    "M_v = streak(' '.join(T_vms), k, n, Smooth=.01)\n",
    "psKLD_v = psKLD(M_v, k)\n",
    "\n",
    "plt.hist(psKLD_v, bins=100, color = list(np.random.rand(3)))"
   ]
  },
  {
   "cell_type": "code",
   "execution_count": null,
   "metadata": {},
   "outputs": [],
   "source": [
    "print np.median(psKLD_v)"
   ]
  },
  {
   "cell_type": "code",
   "execution_count": null,
   "metadata": {},
   "outputs": [],
   "source": [
    "L1 = document([1.,0.,0.], 200, Shuffle=False)\n",
    "L2 = document([.5,.5,0.], 200, Shuffle=False)\n",
    "L2s = document([.5,.5,0.], 200, Shuffle=True)\n",
    "L3 = document([1./3,1./3,1./3], 200, Shuffle=False)\n",
    "L3s = document([1./3,1./3,1./3], 200, Shuffle=True)\n",
    "\n",
    "Ps = [L1, L2, L2s, L3, L3s]\n",
    "\n",
    "k = 300\n",
    "n = 175\n",
    "\n",
    "for i in range(len(Ps)):\n",
    "    M_L = streak(Ps[i], k, n, Smooth=.01)\n",
    "    psKLD_L = psKLD(M_L, k)\n",
    "\n",
    "    plt.hist(psKLD_L, bins=100, color = list(np.random.rand(3)))"
   ]
  },
  {
   "cell_type": "markdown",
   "metadata": {},
   "source": [
    "So it looks like the Voynich is a set of mixed documents, or is in one language. Let's look at each folio."
   ]
  },
  {
   "cell_type": "code",
   "execution_count": null,
   "metadata": {},
   "outputs": [],
   "source": [
    "k = 50\n",
    "n = 175\n",
    "\n",
    "# 50 samples of 175 characters for each of 62 documents = 3100 samples\n",
    "\n",
    "F = []\n",
    "for i in range(len(LongFolioCorpus)):\n",
    "    M_i = streak(LongFolioCorpus[i], k, n, Smooth=.01) # make a streak\n",
    "    d_i = psKLD(M_i, k) # do the pointwise psKLDs\n",
    "    F.append(d_i)\n",
    "    \n",
    "F = np.array(F)    \n",
    "\n",
    "print F.shape"
   ]
  },
  {
   "cell_type": "code",
   "execution_count": null,
   "metadata": {},
   "outputs": [],
   "source": [
    "cols = 2\n",
    "f, axarr = plt.subplots(31, 2, figsize=(7, 80)) \n",
    "for i in range(F.shape[0]): # for each folio\n",
    "    coor = index_to_coord(i, cols)\n",
    "    color = list(np.random.rand(3))\n",
    "    axarr[coor[0], coor[1]].hist(F[i], bins=20, color = color) # can go as high as 300 bins  \n"
   ]
  },
  {
   "cell_type": "markdown",
   "metadata": {},
   "source": [
    "Assumption: each document is in a mix of at least two languages. But if each document is in one language, but the corpus is in multiple languages, we'd still only see unimodal histograms."
   ]
  },
  {
   "cell_type": "markdown",
   "metadata": {},
   "source": [
    "# Discussion\n",
    "What is the sensitivity of our test? Consider that in any sample substring of length $n$, the presence of a single $b$-length word will only lead to $b+2$ indicators in the bigram. This can easily be drowned out, since $\\frac{b+2}{n}$ quickly approaches 0. For example, in English, the [average word length is 5.1 letters](https://arxiv.org/pdf/1208.6109.pdf), which means that in a substring of length $n=500$, a single Spanish word would only account for about 1% of the bigram. \n",
    "\n",
    "What is the rate of convergence to the mean? That is, how long must our substring be to get within $\\alpha$% of the language's bigram?\n",
    "\n",
    "Trigram models perform optimally. \"For the bigraph model, optimal success (100%) was reached on text samples of 200 characters or more, whereas for the trigraph model, 100% success could be gained on samples of more than 175 characters.\" [link](https://www.researchgate.net/publication/246922625_Natural_language_identification_using_corpus-based_models) \n",
    "\n",
    "\"Whereas, for a trigraph model, only 25-50% of the \\[tri\\]graphs need to be learned to achieve optimal recognition\"[link](https://tidsskrift.dk/her/article/view/25083)\n",
    "\n",
    "What if we boosted the words that appeared abberant? \n",
    "\n",
    "We need to bootstrap so that we can estimate variance of the bigrams.\n",
    "\n",
    "Zipf's law: The frequency of a word is inversely proportional to its rank of usage. Derives from a Pareto distribution. The first place word is used about twice as much as the second, three times as much as the third, etc. \n",
    "\n",
    "Formally,\n",
    "$$\n",
    "P(W=w) \\propto \\frac{1}{(r_w+\\beta)^{\\alpha}},\n",
    "$$\n",
    "where $r$ is the rank of the usage of word $w$, and $\\alpha$ and $\\beta$ are shaping parameters.\n",
    "\n",
    "Rehurek and Kolkus, 2009: 372/619\n",
    "\n",
    "\n",
    "hapax legomenon\n",
    "\n",
    "2-d table, where one axis modifies the substring length, and other modifies the number of clusters?\n",
    "\n",
    "Can we justify using a Gaussian Mixture Model as a clustering algorithm?\n",
    "- must assume that language bigrams have a mean, and that variation from the mean is from Gaussian white noise\n",
    "- and Prof said its legit\n",
    "\n",
    "kl divergence\n",
    "cut points\n",
    "monte carlo markov chains\n",
    "linear vs optimal time \n",
    "parameter estimation\n",
    "variable order markov model or context tree mm\n",
    "\n",
    "Find the cut between samples which minimizes the variance in each section."
   ]
  },
  {
   "cell_type": "markdown",
   "metadata": {},
   "source": [
    "# References\n",
    "[statistical identification of language](http://citeseerx.ist.psu.edu/viewdoc/download?doi=10.1.1.48.1958&rep=rep1&type=pdf)\n",
    "\n",
    "[natural language identification using corpus based methods](https://tidsskrift.dk/her/article/view/25083)\n",
    "\n",
    "[Zipf's Law in word frequency](https://www.ncbi.nlm.nih.gov/pmc/articles/PMC4176592/)\n",
    "\n",
    "[Automatic Language Classification by means of Syntactic Dependency Networks](https://www.tandfonline.com/doi/full/10.1080/09296174.2011.608602?src=recsys)\n",
    "\n",
    "[Model generation for word length frequencies in texts with the application of Zipf's order approach](https://www.tandfonline.com/doi/full/10.1080/09296174.2012.714531?src=recsys)\n",
    "\n",
    "[Natural language identification using corpus-based models](https://www.researchgate.net/publication/246922625_Natural_language_identification_using_corpus-based_models?enrichId=rgreq-d97128a2b63639546ad910327bdb675e-XXX&enrichSource=Y292ZXJQYWdlOzI0NjkyMjYyNTtBUzoxNzU3MTcyODMyNzg4NDhAMTQxODkwNTY3MzE5Mg%3D%3D&el=1_x_2&_esc=publicationCoverPdf)\n",
    "\n",
    "[Reddy and Knight](https://www.isi.edu/natural-language/people/voynich-11.pdf) use HMMs (in passing) to claim that the manuscript is in two languages.\n",
    "\n",
    "[Currier](http://www.voynich.nu/extra/curr_main.html) Hands A and B.\n",
    "\n",
    "[Currier PCA](http://www.voynich.nu/extra/curabcd.html)\n",
    "\n",
    "Statistical Identification of Language, Ted Dunning (1994).\n",
    "Language Identification on the Web: Extending the Dictionary Method, Rehurek and Kolkus (2016).\n",
    "Text Classifiation and segmentation using minimum cross-entropy, W.J. Teahan (2000).\n",
    "Natural Language Identification using Corpus Based Models, Souter et al. (1994)\n"
   ]
  }
 ],
 "metadata": {
  "kernelspec": {
   "display_name": "Python 2",
   "language": "python",
   "name": "python2"
  },
  "language_info": {
   "codemirror_mode": {
    "name": "ipython",
    "version": 2
   },
   "file_extension": ".py",
   "mimetype": "text/x-python",
   "name": "python",
   "nbconvert_exporter": "python",
   "pygments_lexer": "ipython2",
   "version": "2.7.14"
  }
 },
 "nbformat": 4,
 "nbformat_minor": 2
}
